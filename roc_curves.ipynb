{
 "cells": [
  {
   "cell_type": "code",
   "execution_count": null,
   "metadata": {},
   "outputs": [],
   "source": [
    "import json\n",
    "import numpy as np\n",
    "import matplotlib.pyplot as plt\n",
    "\n",
    "from utils import gaussian_profile, z_statistic, s_statistic, performance_sims, roc_curves"
   ]
  },
  {
   "cell_type": "code",
   "execution_count": null,
   "metadata": {
    "tags": [
     "parameters"
    ]
   },
   "outputs": [],
   "source": [
    "save_figs = True\n",
    "sess_name_a = 'sims_<N_a>'\n",
    "sess_name_b = 'sims_<N_a>'\n",
    "sess_name_c = 'sims_<N_c>'"
   ]
  },
  {
   "cell_type": "code",
   "execution_count": null,
   "metadata": {},
   "outputs": [],
   "source": [
    "sess_names = [sess_name_a, sess_name_b, sess_name_c]\n",
    "\n",
    "z_tpr = [None]*len(sess_names)\n",
    "z_fpr = [None]*len(sess_names)\n",
    "s_tpr = [None]*len(sess_names)\n",
    "s_fpr = [None]*len(sess_names)\n",
    "\n",
    "for i, sess_name in enumerate(sess_names):\n",
    "\n",
    "    with open('%s.json' % sess_name) as f:\n",
    "        param_dict = json.load(f)\n",
    "    globals().update(param_dict)\n",
    "    \n",
    "    np.random.seed(seed)\n",
    "    q = np.array([n/2, n/2])\n",
    "    x0_r, y0_r = (q + np.array(Delta))\n",
    "    x0_n, y0_n = (q - np.array(Delta))\n",
    "    P_r = gaussian_profile(n/2, n/2, [n, n], cxx_r, cyy_r, cth_r)\n",
    "    P_n = gaussian_profile(n/2, n/2, [n, n], cxx_n, cyy_n, cth_n)\n",
    "    T_P_r = alpha_r * gaussian_profile(x0_r, y0_r, [n, n], cxx_r, cyy_r, cth_r)\n",
    "    T_P_n = alpha_n * gaussian_profile(x0_n, y0_n, [n, n], cxx_n, cyy_n, cth_n)\n",
    "    \n",
    "    z_pos, z_neg, s_pos, s_neg = performance_sims(P_r, P_n, T_P_r, T_P_n, sig_r, sig_n, k)\n",
    "    z_tpr[i], z_fpr[i], s_tpr[i], s_fpr[i] = roc_curves(z_pos, z_neg, s_pos, s_neg)"
   ]
  },
  {
   "cell_type": "code",
   "execution_count": null,
   "metadata": {},
   "outputs": [],
   "source": [
    "plt.figure(figsize=(5,3))\n",
    "\n",
    "colors = ['C%d' % (int(s[-1])-1) for s in sess_names]\n",
    "for i, sess_name in enumerate(sess_names):\n",
    "    plt.plot(z_fpr[i], z_tpr[i], '-', label='Sim %s Translient' % sess_name[-1], color=colors[i])\n",
    "    plt.plot(s_fpr[i], s_tpr[i], '--', label='Sim %s Proper' % sess_name[-1], color=colors[i])\n",
    "    \n",
    "plt.grid('on')\n",
    "plt.xlabel('False positive rate')\n",
    "plt.ylabel('True positive rate')\n",
    "plt.xlim(-0.02, 1.02);\n",
    "plt.ylim(-0.02, 1.02);\n",
    "plt.legend(loc=\"lower right\")\n",
    "\n",
    "plt.tight_layout()\n",
    "\n",
    "if save_figs:\n",
    "    plt.savefig('figures/roc_sims_%s_%s_%s.pdf' % (sess_name_a[-1], sess_name_b[-1], sess_name_c[-1]))"
   ]
  },
  {
   "cell_type": "code",
   "execution_count": null,
   "metadata": {},
   "outputs": [],
   "source": []
  }
 ],
 "metadata": {
  "kernelspec": {
   "display_name": "Python 3",
   "language": "python",
   "name": "python3"
  },
  "language_info": {
   "codemirror_mode": {
    "name": "ipython",
    "version": 3
   },
   "file_extension": ".py",
   "mimetype": "text/x-python",
   "name": "python",
   "nbconvert_exporter": "python",
   "pygments_lexer": "ipython3",
   "version": "3.7.3"
  },
  "nteract": {
   "version": "0.14.3"
  }
 },
 "nbformat": 4,
 "nbformat_minor": 2
}
