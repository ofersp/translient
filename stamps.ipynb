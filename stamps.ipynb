{
 "cells": [
  {
   "cell_type": "code",
   "execution_count": null,
   "metadata": {},
   "outputs": [],
   "source": [
    "import json\n",
    "import numpy as np\n",
    "import matplotlib.pyplot as plt\n",
    "\n",
    "from utils import gaussian_profile, z_statistic, s_statistic, performance_sims"
   ]
  },
  {
   "cell_type": "code",
   "execution_count": null,
   "metadata": {
    "tags": [
     "parameters"
    ]
   },
   "outputs": [],
   "source": [
    "save_figs = True\n",
    "sess_name = 'sims_1'"
   ]
  },
  {
   "cell_type": "code",
   "execution_count": null,
   "metadata": {},
   "outputs": [],
   "source": [
    "with open('%s.json' % sess_name) as f:\n",
    "    param_dict = json.load(f)\n",
    "globals().update(param_dict)"
   ]
  },
  {
   "cell_type": "code",
   "execution_count": null,
   "metadata": {},
   "outputs": [],
   "source": [
    "np.random.seed(seed)\n",
    "\n",
    "q = np.array([n/2, n/2])\n",
    "x0_r, y0_r = (q + np.array(Delta))\n",
    "x0_n, y0_n = (q - np.array(Delta))\n",
    "\n",
    "P_r = gaussian_profile(n/2, n/2, [n, n], cxx_r, cyy_r, cth_r)\n",
    "P_n = gaussian_profile(n/2, n/2, [n, n], cxx_n, cyy_n, cth_n)\n",
    "T_P_r = alpha_r * gaussian_profile(x0_r, y0_r, [n, n], cxx_r, cyy_r, cth_r)\n",
    "T_P_n = alpha_n * gaussian_profile(x0_n, y0_n, [n, n], cxx_n, cyy_n, cth_n)"
   ]
  },
  {
   "cell_type": "code",
   "execution_count": null,
   "metadata": {},
   "outputs": [],
   "source": [
    "R = T_P_r + np.random.randn(n, n)*sig_r\n",
    "N = T_P_n + np.random.randn(n, n)*sig_n\n",
    "\n",
    "plt.figure(figsize=(7, 3))\n",
    "plt.subplot(1,2,1)\n",
    "plt.imshow(R)\n",
    "plt.plot(x0_r, y0_r, '+r')\n",
    "plt.plot(x0_n, y0_n, '+k')\n",
    "plt.title(r'Reference image $R(x,y)$')\n",
    "\n",
    "plt.axis('off')\n",
    "plt.subplot(1,2,2); plt.imshow(N)\n",
    "plt.axis('off')\n",
    "plt.plot(x0_r, y0_r, '+r')\n",
    "plt.plot(x0_n, y0_n, '+k')\n",
    "plt.title(r'New image $N(x,y)$')\n",
    "\n",
    "plt.tight_layout()\n",
    "\n",
    "if save_figs:\n",
    "    plt.savefig('figures/stamps_%s.pdf' % (sess_name))"
   ]
  },
  {
   "cell_type": "code",
   "execution_count": null,
   "metadata": {},
   "outputs": [],
   "source": [
    "z_pos, z_neg, s_pos, s_neg = performance_sims(P_r, P_n, T_P_r, T_P_n, sig_r, sig_n, 1)"
   ]
  },
  {
   "cell_type": "code",
   "execution_count": null,
   "metadata": {},
   "outputs": [],
   "source": [
    "plt.figure(figsize=(7, 3))\n",
    "plt.subplot(1,2,1)\n",
    "plt.imshow(z_pos[:, :, 0])\n",
    "plt.plot(q[0], q[1], '+r')\n",
    "plt.title(r'Translient statistic $Z(x,y)^2$');\n",
    "\n",
    "plt.axis('off')\n",
    "plt.subplot(1,2,2)\n",
    "plt.imshow(s_pos[:, :, 0])\n",
    "plt.axis('off')\n",
    "plt.plot(q[0], q[1], '+r')\n",
    "plt.title(r'Proper statistic $S(x,y)^2$');\n",
    "\n",
    "plt.tight_layout()\n",
    "\n",
    "if save_figs:\n",
    "    plt.savefig('figures/residuals_pos_%s.pdf' % (sess_name))"
   ]
  },
  {
   "cell_type": "code",
   "execution_count": null,
   "metadata": {},
   "outputs": [],
   "source": [
    "plt.figure(figsize=(7, 3))\n",
    "plt.subplot(1,2,1)\n",
    "plt.imshow(z_neg[:, :, 0])\n",
    "plt.title(r'Translient statistic $Z(x,y)^2$');\n",
    "\n",
    "plt.axis('off')\n",
    "plt.subplot(1,2,2)\n",
    "plt.imshow(s_neg[:, :, 0])\n",
    "plt.axis('off')\n",
    "plt.title(r'Proper statistic $S(x,y)^2$');\n",
    "\n",
    "plt.tight_layout()\n",
    "\n",
    "if save_figs:\n",
    "    plt.savefig('figures/residuals_neg_%s.pdf' % (sess_name))"
   ]
  }
 ],
 "metadata": {
  "kernelspec": {
   "display_name": "Python 3",
   "language": "python",
   "name": "python3"
  },
  "language_info": {
   "codemirror_mode": {
    "name": "ipython",
    "version": 3
   },
   "file_extension": ".py",
   "mimetype": "text/x-python",
   "name": "python",
   "nbconvert_exporter": "python",
   "pygments_lexer": "ipython3",
   "version": "3.7.3"
  },
  "nteract": {
   "version": "0.14.3"
  }
 },
 "nbformat": 4,
 "nbformat_minor": 2
}
